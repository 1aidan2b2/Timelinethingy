{
  "nbformat": 4,
  "nbformat_minor": 0,
  "metadata": {
    "colab": {
      "provenance": [],
      "include_colab_link": true
    },
    "kernelspec": {
      "name": "python3",
      "display_name": "Python 3"
    },
    "language_info": {
      "name": "python"
    }
  },
  "cells": [
    {
      "cell_type": "markdown",
      "metadata": {
        "id": "view-in-github",
        "colab_type": "text"
      },
      "source": [
        "<a href=\"https://colab.research.google.com/github/1aidan2b2/Timelinethingy/blob/main/Unit3/Unit3Project.ipynb\" target=\"_parent\"><img src=\"https://colab.research.google.com/assets/colab-badge.svg\" alt=\"Open In Colab\"/></a>"
      ]
    },
    {
      "cell_type": "markdown",
      "source": [
        "You need to submit a .ipynb file with the first four letters of one first name, the first four letters of one last name, and U3proj.\n",
        "\n",
        "Ex.\n",
        "\n",
        "A student named Avy Aguacate Avocado Palta will submit a file named \"Avy_AvocU3proj.ipynb\", since she normally just goes by Avy, and, when pressed, reports Avocado as her last name. The \" _ \" after \"Avy\" serves as the fourth \"letter\" in her first name.\n",
        "\n",
        "Ex2.\n",
        "\n",
        "Army Armadillo will submit a file named \"ArmyArmaU2proj.ipynb\""
      ],
      "metadata": {
        "id": "GkD7Y6hFZdzW"
      }
    },
    {
      "cell_type": "markdown",
      "source": [
        "# Unit 3 Project: The Right Likelihood for the Job\n",
        "\n",
        "In unit 2, we asked \"what's the true proportion of ____?\"\n",
        "\n",
        "In this unit's project, we'll ask \"What's the true average of \\_\\_\\_\\_?\" or \"What's the true amount of \\_\\_\\__?\"\n",
        "\n",
        "**Task**:\n",
        "\n",
        "Two parts:\n",
        "\n",
        "1. Propose a data set that's compatible with a single variable likelihood from pymc. I must approve your submission before you move on to part 2.\n",
        "\n",
        "\n",
        "\n",
        "2. Create, analyze, and present a model using pymc within the colab environment, on a data set of your choice, with the following restrictions\n",
        "- You must have at least one prior, and NONE of your priors can be a beta distribtuion\n",
        "- Your likelihood CANNOT be a Bernoulli distribution nor a Binomial distribution.\n",
        "\n"
      ],
      "metadata": {
        "id": "hIWO5hU4NeAg"
      }
    },
    {
      "cell_type": "markdown",
      "source": [
        "Guidlines:\n",
        "\n",
        "- You are allowed to copy and paste any code from the notes, including my answer key (AK), without any reference or citations. Same goes for the course textbook, BAP3.\n",
        "\n",
        "- This is an individual project. It is fine if you model the same process as a peer, but your raw data **must** be substantially different. \"Substantially different\" means that I, your instructor, arbitrarily think your data sets are different enough.\n",
        "\n",
        "- Do not look at other student's code/jupyter notebooks. Copying, or copying and pasting, other students code will result in a failing grade. Also, I will tell all the other teachers I know that you cheated.\n",
        "\n",
        "- If you want to know what another student did, ask them--any verbal communication about a project is allowed and encouraged. If you want to see a graphic they made, ask them to sketch a picture of it for you by hand.\n",
        "\n",
        "- Any handwritten communication is also allowed and encouraged, so long as all parties are in the same physical location together. Example: you may sketch out a piece of code while verbally explaining to someone what you did. Do NOT: hand write the code for your entire project, take a picture, and send it to everyone in the course.\n",
        "\n",
        "- If you use someone's code from outside this course (like from the internet, an AI, or your parent), you must ask me if it is ok, and you must cite them in your work. I don't care all they did was to click your space bar one more time: you tell me, and you cite their contribution. You don't need to tell me about or cite verbal or handwritten communication though.\n",
        "\n",
        "- You may use a more complicated model--like something from further along in the course--IF I give you permission.\n",
        "\n",
        "- If you are unsure whether or not something is ok or allowed: ASK BEFORE YOU DO IT.\n",
        "\n",
        "Faliure to adhere to these guidlines will result in a failing grade."
      ],
      "metadata": {
        "id": "iG3eGgAnPT6b"
      }
    },
    {
      "cell_type": "markdown",
      "source": [
        "Tips:\n",
        "\n",
        "- Try to pick something that you care about, have knowledge of, experience with, or that you find interesting/cool.\n",
        "\n",
        "- Gather data *before* picking a likelihood.\n",
        "\n",
        "-  Use your best idea now; maybe you can look at the context you used in the previous project, and gather different data from it.\n",
        "\n",
        "- Comment heavily, and explain your steps and thought process with text blocks. This is not only requried, it'll also help you understand what you're doing and what you want to do.\n",
        "\n",
        "- Want an example? The chemshift data anlysis portion of the Unit3NotesAK is your example. You are expected to be somewhere between a half and three-quarters as detailed--but more is always welcome.\n",
        "\n",
        "- A posterior predictive check is more important than the posterior for this project. Ask me if you want to know why.\n",
        "\n",
        "- I didn't totally understand the chemical shift context--which means you don't have to totally understand the context of your data either! You should try to learn as you go, though.\n",
        "\n",
        "amount of high rain days\n",
        "\n"
      ],
      "metadata": {
        "id": "YJPcaPErSNjc"
      }
    },
    {
      "cell_type": "code",
      "source": [
        "!pip install preliz"
      ],
      "metadata": {
        "id": "QDAJoVcn0_4Q",
        "outputId": "acd48fd6-d51f-4ed0-9ece-5496b403d2f4",
        "colab": {
          "base_uri": "https://localhost:8080/"
        }
      },
      "execution_count": 1,
      "outputs": [
        {
          "output_type": "stream",
          "name": "stdout",
          "text": [
            "Collecting preliz\n",
            "  Downloading preliz-0.21.0-py3-none-any.whl.metadata (6.2 kB)\n",
            "Collecting arviz_stats>=0.6.0 (from preliz)\n",
            "  Downloading arviz_stats-0.6.0-py3-none-any.whl.metadata (2.9 kB)\n",
            "Requirement already satisfied: matplotlib>=3.8 in /usr/local/lib/python3.12/dist-packages (from preliz) (3.10.0)\n",
            "Requirement already satisfied: numba>=0.59 in /usr/local/lib/python3.12/dist-packages (from preliz) (0.60.0)\n",
            "Requirement already satisfied: numpy>=2.0 in /usr/local/lib/python3.12/dist-packages (from preliz) (2.0.2)\n",
            "Requirement already satisfied: scipy>=1.12 in /usr/local/lib/python3.12/dist-packages (from preliz) (1.16.2)\n",
            "Requirement already satisfied: contourpy>=1.0.1 in /usr/local/lib/python3.12/dist-packages (from matplotlib>=3.8->preliz) (1.3.3)\n",
            "Requirement already satisfied: cycler>=0.10 in /usr/local/lib/python3.12/dist-packages (from matplotlib>=3.8->preliz) (0.12.1)\n",
            "Requirement already satisfied: fonttools>=4.22.0 in /usr/local/lib/python3.12/dist-packages (from matplotlib>=3.8->preliz) (4.60.0)\n",
            "Requirement already satisfied: kiwisolver>=1.3.1 in /usr/local/lib/python3.12/dist-packages (from matplotlib>=3.8->preliz) (1.4.9)\n",
            "Requirement already satisfied: packaging>=20.0 in /usr/local/lib/python3.12/dist-packages (from matplotlib>=3.8->preliz) (25.0)\n",
            "Requirement already satisfied: pillow>=8 in /usr/local/lib/python3.12/dist-packages (from matplotlib>=3.8->preliz) (11.3.0)\n",
            "Requirement already satisfied: pyparsing>=2.3.1 in /usr/local/lib/python3.12/dist-packages (from matplotlib>=3.8->preliz) (3.2.4)\n",
            "Requirement already satisfied: python-dateutil>=2.7 in /usr/local/lib/python3.12/dist-packages (from matplotlib>=3.8->preliz) (2.9.0.post0)\n",
            "Requirement already satisfied: llvmlite<0.44,>=0.43.0dev0 in /usr/local/lib/python3.12/dist-packages (from numba>=0.59->preliz) (0.43.0)\n",
            "Requirement already satisfied: six>=1.5 in /usr/local/lib/python3.12/dist-packages (from python-dateutil>=2.7->matplotlib>=3.8->preliz) (1.17.0)\n",
            "Downloading preliz-0.21.0-py3-none-any.whl (519 kB)\n",
            "\u001b[2K   \u001b[90m━━━━━━━━━━━━━━━━━━━━━━━━━━━━━━━━━━━━━━━━\u001b[0m \u001b[32m519.6/519.6 kB\u001b[0m \u001b[31m17.6 MB/s\u001b[0m eta \u001b[36m0:00:00\u001b[0m\n",
            "\u001b[?25hDownloading arviz_stats-0.6.0-py3-none-any.whl (108 kB)\n",
            "\u001b[2K   \u001b[90m━━━━━━━━━━━━━━━━━━━━━━━━━━━━━━━━━━━━━━━━\u001b[0m \u001b[32m108.8/108.8 kB\u001b[0m \u001b[31m10.4 MB/s\u001b[0m eta \u001b[36m0:00:00\u001b[0m\n",
            "\u001b[?25hInstalling collected packages: arviz_stats, preliz\n",
            "Successfully installed arviz_stats-0.6.0 preliz-0.21.0\n"
          ]
        }
      ]
    },
    {
      "cell_type": "code",
      "source": [
        "import preliz as pz\n",
        "import numpy as np\n",
        "import matplotlib.pyplot as plt\n",
        "#import pandas as pd, we using polar bears bois\n",
        "import arviz as az\n",
        "import polars as pl\n",
        "import pymc as pm"
      ],
      "metadata": {
        "id": "C8kLzOMN1DOf"
      },
      "execution_count": 2,
      "outputs": []
    },
    {
      "cell_type": "code",
      "source": [
        "link = \"https://github.com/1aidan2b2/data-science-fundamentals-Aidan/raw/refs/heads/main/Data/missriver1.csv\"\n",
        "\n",
        "dat = pl.read_csv(link)\n",
        "\n",
        "datuse = dat[\"discharge\"]\n",
        "print(datuse)\n",
        "datusenp = datuse.to_numpy()\n",
        "with pm.Model() as Water:\n",
        "  #we define our prior with the makes and misses from Euroleague\n",
        "  θ = (pz.Poisson(mu=100)).to_pymc(name=\"nu\")\n",
        "\n",
        "  #The Bernoulli likelihood is a stand in for the binomial distribution\n",
        "  y = pm.StudentT('y',nu= θ, observed = datusenp)\n",
        "  #sample from our posterior\n",
        "  idata_Water = pm.sample(2000,progressbar=False)"
      ],
      "metadata": {
        "id": "iYlPUyfN1NE3",
        "outputId": "84e816d2-0844-4545-aa65-c37a19aed561",
        "colab": {
          "base_uri": "https://localhost:8080/"
        }
      },
      "execution_count": 20,
      "outputs": [
        {
          "output_type": "stream",
          "name": "stdout",
          "text": [
            "shape: (876,)\n",
            "Series: 'discharge' [f64]\n",
            "[\n",
            "\t63.69\n",
            "\t81.0\n",
            "\t125.42\n",
            "\t272.29\n",
            "\t427.68\n",
            "\t…\n",
            "\t82.75\n",
            "\t57.26\n",
            "\t36.0\n",
            "\t63.25\n",
            "\t47.78\n",
            "]\n"
          ]
        },
        {
          "output_type": "stream",
          "name": "stderr",
          "text": [
            "/usr/local/lib/python3.12/dist-packages/pymc/step_methods/metropolis.py:321: RuntimeWarning: overflow encountered in exp\n",
            "  \"accept\": np.mean(np.exp(self.accept_rate_iter)),\n",
            "/usr/local/lib/python3.12/dist-packages/arviz/stats/diagnostics.py:596: RuntimeWarning: invalid value encountered in scalar divide\n",
            "  (between_chain_variance / within_chain_variance + num_samples - 1) / (num_samples)\n"
          ]
        }
      ]
    },
    {
      "cell_type": "code",
      "source": [
        "az.plot_posterior(idata_Water)"
      ],
      "metadata": {
        "id": "fUKOJOZi3Nvx",
        "outputId": "45d28f36-63a3-452d-85d2-9580d8077a82",
        "colab": {
          "base_uri": "https://localhost:8080/",
          "height": 476
        }
      },
      "execution_count": 17,
      "outputs": [
        {
          "output_type": "execute_result",
          "data": {
            "text/plain": [
              "<Axes: title={'center': 'θ'}>"
            ]
          },
          "metadata": {},
          "execution_count": 17
        },
        {
          "output_type": "display_data",
          "data": {
            "text/plain": [
              "<Figure size 640x480 with 1 Axes>"
            ],
            "image/png": "[encoded data removed]"
          },
          "metadata": {}
        }
      ]
    }
  ]
}